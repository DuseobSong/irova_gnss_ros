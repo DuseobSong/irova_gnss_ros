{
 "cells": [
  {
   "cell_type": "code",
   "execution_count": 6,
   "metadata": {},
   "outputs": [
    {
     "name": "stdout",
     "output_type": "stream",
     "text": [
      "True\n",
      "False\n",
      "False\n"
     ]
    }
   ],
   "source": [
    "import re\n",
    "\n",
    "reg=\"^[0-9]+\\.[0-9]+\\.[0-9]+\\.[0-9]{1,3}$\"\n",
    "\n",
    "ips = ['129.123.1.21',\n",
    "       'asd.qwe.123.15',\n",
    "       '123/141.213/412']\n",
    "\n",
    "for ip in ips:\n",
    "    if re.match(reg, ip):\n",
    "        print('True')\n",
    "    else:\n",
    "        print('False')"
   ]
  },
  {
   "cell_type": "code",
   "execution_count": 27,
   "metadata": {},
   "outputs": [
    {
     "name": "stdout",
     "output_type": "stream",
     "text": [
      "(1089505.5119782635, 1761773.9003020208)\n",
      "(515441.5108954594, 366857.26349295647)\n",
      "(334712.6938129107, 362251.7414842684)\n",
      "(154035.83692303533, 361344.4853010551)\n"
     ]
    }
   ],
   "source": [
    "import pyproj\n",
    "import numpy as np\n",
    "\n",
    "lat1 = 35 + 50.9048 / 60.0\n",
    "lon1 = 128 + 29.4713 / 60.0\n",
    "\n",
    "# WGS84 - Latitude, Longitude\n",
    "epsg4326 = pyproj.CRS.from_string(\"+proj=longlat +ellps=WGS84 +datum=WGS84 +no_defs\")\n",
    "# UTM-K (GRS80)\n",
    "epsg5179 = pyproj.CRS.from_string(\"+proj=tmerc +lat_0=38 +lon_0=127.5 +k=0.9996 +x_0=1000000 +y_0=2000000 +ellps=GRS80 +units=m +no_defs\")\n",
    "# TM-WEST\n",
    "epsg5185 = pyproj.CRS.from_string(\"+proj=tmerc +lat_0=38 +lon_0=125 +k=1 +x_0=200000 +y_0=600000 +ellps=GRS80 +units=m +no_defs\")\n",
    "# TM-CENTRAL\n",
    "epsg5186 = pyproj.CRS.from_string(\"+proj=tmerc +lat_0=38 +lon_0=127 +k=1 +x_0=200000 +y_0=600000 +ellps=GRS80 +units=m +no_defs\")\n",
    "# TM-EAST\n",
    "epsg5187 = pyproj.CRS.from_string(\"+proj=tmerc +lat_0=38 +lon_0=129 +k=1 +x_0=200000 +y_0=600000 +ellps=GRS80 +units=m +no_defs\")\n",
    "\n",
    "transformer5179 = pyproj.Transformer.from_crs(epsg4326, epsg5179)\n",
    "transformer5185 = pyproj.Transformer.from_crs(epsg4326, epsg5185)\n",
    "transformer5186 = pyproj.Transformer.from_crs(epsg4326, epsg5186)\n",
    "transformer5187 = pyproj.Transformer.from_crs(epsg4326, epsg5187)\n",
    "\n",
    "\n",
    "def convert_coordinate(lon, lat, type=5179):\n",
    "    if type == 5179: # UTM-K\n",
    "        E, N = transformer5179.transform(lon, lat)\n",
    "    elif type == 5185:\n",
    "        E, N = transformer5185.transform(lon, lat)\n",
    "    elif type == 5186:\n",
    "        E, N = transformer5186.transform(lon, lat)\n",
    "    elif type == 5187:\n",
    "        E, N = transformer5187.transform(lon, lat)\n",
    "        \n",
    "    return E, N\n",
    "\n",
    "print(convert_coordinate(lon1, lat1, type=5179))\n",
    "print(convert_coordinate(lon1, lat1, type=5185))\n",
    "print(convert_coordinate(lon1, lat1, type=5186))\n",
    "print(convert_coordinate(lon1, lat1, type=5187))"
   ]
  },
  {
   "cell_type": "code",
   "execution_count": 26,
   "metadata": {},
   "outputs": [
    {
     "name": "stdout",
     "output_type": "stream",
     "text": [
      "<bound method NDFrame.head of            LAT         LON    LAT_DEG     LON_DEG             E             N\n",
      "0    35.509048  128.294713  35.848414  128.491189  1.089506e+06  1.761774e+06\n",
      "1    35.509048  128.294713  35.848414  128.491189  1.089506e+06  1.761774e+06\n",
      "2    35.509048  128.294713  35.848414  128.491189  1.089506e+06  1.761774e+06\n",
      "3    35.509048  128.294713  35.848414  128.491189  1.089506e+06  1.761774e+06\n",
      "4    35.509048  128.294713  35.848414  128.491189  1.089506e+06  1.761774e+06\n",
      "..         ...         ...        ...         ...           ...           ...\n",
      "995  35.509048  128.294713  35.848414  128.491189  1.089506e+06  1.761774e+06\n",
      "996  35.509048  128.294713  35.848414  128.491189  1.089506e+06  1.761774e+06\n",
      "997  35.509048  128.294713  35.848414  128.491189  1.089506e+06  1.761774e+06\n",
      "998  35.509048  128.294713  35.848414  128.491189  1.089506e+06  1.761774e+06\n",
      "999  35.509048  128.294713  35.848414  128.491189  1.089506e+06  1.761774e+06\n",
      "\n",
      "[1000 rows x 6 columns]>\n"
     ]
    }
   ],
   "source": [
    "import pyproj\n",
    "import numpy as np\n",
    "import pandas as pd\n",
    "import rospkg\n",
    "\n",
    "rp = rospkg.RosPack()\n",
    "root_dir = rp.get_path('gnss_ros')\n",
    "\n",
    "# WGS84 - Latitude, Longitude\n",
    "epsg4326 = pyproj.CRS.from_string(\"+proj=longlat +ellps=WGS84 +datum=WGS84 +no_defs\")\n",
    "# UTM-K (GRS80)\n",
    "epsg5179 = pyproj.CRS.from_string(\"+proj=tmerc +lat_0=38 +lon_0=127.5 +k=0.9996 +x_0=1000000 +y_0=2000000 +ellps=GRS80 +units=m +no_defs\")\n",
    "# # TM-WEST\n",
    "# epsg5185 = pyproj.CRS.from_string(\"+proj=tmerc +lat_0=38 +lon_0=125 +k=1 +x_0=200000 +y_0=600000 +ellps=GRS80 +units=m +no_defs\")\n",
    "# # TM-CENTRAL\n",
    "# epsg5186 = pyproj.CRS.from_string(\"+proj=tmerc +lat_0=38 +lon_0=127 +k=1 +x_0=200000 +y_0=600000 +ellps=GRS80 +units=m +no_defs\")\n",
    "# # TM-EAST\n",
    "# epsg5187 = pyproj.CRS.from_string(\"+proj=tmerc +lat_0=38 +lon_0=129 +k=1 +x_0=200000 +y_0=600000 +ellps=GRS80 +units=m +no_defs\")\n",
    "\n",
    "\n",
    "class GNSSTransformer:\n",
    "    def __init__(self):\n",
    "        self.transformer = pyproj.Transformer.from_crs(epsg4326, epsg5179)\n",
    "        \n",
    "    def convert_coordinate(self, lon, lat):\n",
    "        # lon = lon // 100 + lon % 100 / 60.0\n",
    "        # lat = lat // 100 + lat % 100 / 60.0\n",
    "        e, n = self.transformer.transform(lon, lat)\n",
    "        return e, n\n",
    "    \n",
    "    def convert(self, df: pd.DataFrame):\n",
    "        if 'LAT' not in df.columns or 'LON' not in df.columns:\n",
    "            return False, df\n",
    "        else:\n",
    "            df['LAT_DEG'] = df['LAT'] // 1 + (df[\"LAT\"] % 1) * 100 / 60.0\n",
    "            df[\"LON_DEG\"] = df[\"LON\"] // 1 + (df[\"LON\"] % 1) * 100 / 60.0\n",
    "            # df['E'], df['N'] = zip(*df[['LON', 'LAT']].apply(self.convert_coordinate))\n",
    "            df['E'], df['N'] = self.convert_coordinate(df['LON_DEG'], df['LAT_DEG'])\n",
    "            return True, df\n",
    "        \n",
    "transformer = GNSSTransformer()\n",
    "\n",
    "data = pd.read_csv(root_dir + '/scripts/FITO/CLBY-1B-10804-99_20241108_055906_0.csv')[['LAT', 'LON']]\n",
    "\n",
    "# print(data.head)\n",
    "\n",
    "ret, coord = transformer.convert(data)\n",
    "print(coord.head)"
   ]
  },
  {
   "cell_type": "code",
   "execution_count": null,
   "metadata": {},
   "outputs": [],
   "source": [
    "\n"
   ]
  }
 ],
 "metadata": {
  "kernelspec": {
   "display_name": "Python 3",
   "language": "python",
   "name": "python3"
  },
  "language_info": {
   "codemirror_mode": {
    "name": "ipython",
    "version": 3
   },
   "file_extension": ".py",
   "mimetype": "text/x-python",
   "name": "python",
   "nbconvert_exporter": "python",
   "pygments_lexer": "ipython3",
   "version": "3.8.10"
  }
 },
 "nbformat": 4,
 "nbformat_minor": 2
}
